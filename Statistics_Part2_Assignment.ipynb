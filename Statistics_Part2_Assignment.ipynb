{
  "cells": [
    {
      "cell_type": "markdown",
      "id": "c8844a07",
      "metadata": {
        "id": "c8844a07"
      },
      "source": [
        "# Assignment: Statistics Part 2\n",
        "\n",
        "This notebook includes both theory and practical questions with complete answers and executable Python code examples."
      ]
    },
    {
      "cell_type": "markdown",
      "id": "7e6150d3",
      "metadata": {
        "id": "7e6150d3"
      },
      "source": [
        "## Theory Questions"
      ]
    },
    {
      "cell_type": "markdown",
      "id": "1e8986c0",
      "metadata": {
        "id": "1e8986c0"
      },
      "source": [
        "### Q1. What is hypothesis testing in statistics\n",
        "\n",
        "**Answer:**\n",
        "Hypothesis testing is a statistical method used to make inferences or draw conclusions about a population based on sample data."
      ]
    },
    {
      "cell_type": "markdown",
      "id": "a56755ea",
      "metadata": {
        "id": "a56755ea"
      },
      "source": [
        "### Q2. What is the null hypothesis, and how does it differ from the alternative hypothesis\n",
        "\n",
        "**Answer:**\n",
        "The null hypothesis (H0) states there is no effect or difference; the alternative hypothesis (H1) states there is an effect or difference."
      ]
    },
    {
      "cell_type": "markdown",
      "id": "4b1b662f",
      "metadata": {
        "id": "4b1b662f"
      },
      "source": [
        "### Q3. What is the significance level in hypothesis testing, and why is it important\n",
        "\n",
        "**Answer:**\n",
        "The significance level (α) is the probability of rejecting a true null hypothesis. Common values are 0.05 or 0.01."
      ]
    },
    {
      "cell_type": "markdown",
      "id": "b4efae47",
      "metadata": {
        "id": "b4efae47"
      },
      "source": [
        "### Q4. What does a P-value represent in hypothesis testing\n",
        "\n",
        "**Answer:**\n",
        "The P-value is the probability of obtaining test results at least as extreme as those observed, assuming the null hypothesis is true."
      ]
    },
    {
      "cell_type": "markdown",
      "id": "293f9ae7",
      "metadata": {
        "id": "293f9ae7"
      },
      "source": [
        "### Q5. How do you interpret the P-value in hypothesis testing\n",
        "\n",
        "**Answer:**\n",
        "A small P-value (typically ≤ 0.05) indicates strong evidence against the null hypothesis, so we reject it."
      ]
    },
    {
      "cell_type": "markdown",
      "id": "8edddcad",
      "metadata": {
        "id": "8edddcad"
      },
      "source": [
        "### Q6. What are Type 1 and Type 2 errors in hypothesis testing\n",
        "\n",
        "**Answer:**\n",
        "Type 1 error: rejecting a true null hypothesis. Type 2 error: failing to reject a false null hypothesis."
      ]
    },
    {
      "cell_type": "markdown",
      "id": "174bb14d",
      "metadata": {
        "id": "174bb14d"
      },
      "source": [
        "### Q7. What is the difference between a one-tailed and a two-tailed test in hypothesis testing\n",
        "\n",
        "**Answer:**\n",
        "A one-tailed test checks for an effect in one direction; a two-tailed test checks for an effect in either direction."
      ]
    },
    {
      "cell_type": "markdown",
      "id": "f5e43a1c",
      "metadata": {
        "id": "f5e43a1c"
      },
      "source": [
        "### Q8. What is the Z-test, and when is it used in hypothesis testing\n",
        "\n",
        "**Answer:**\n",
        "A Z-test is used when the population variance is known and the sample size is large (n > 30)."
      ]
    },
    {
      "cell_type": "markdown",
      "id": "32ba38df",
      "metadata": {
        "id": "32ba38df"
      },
      "source": [
        "### Q9. How do you calculate the Z-score, and what does it represent in hypothesis testing\n",
        "\n",
        "**Answer:**\n",
        "Z = (X̄ - μ) / (σ / √n); it shows how many standard deviations a sample mean is from the population mean."
      ]
    },
    {
      "cell_type": "markdown",
      "id": "f6c586fb",
      "metadata": {
        "id": "f6c586fb"
      },
      "source": [
        "### Q10. What is the T-distribution, and when should it be used instead of the normal distribution\n",
        "\n",
        "**Answer:**\n",
        "T-distribution is used when the population standard deviation is unknown and the sample size is small."
      ]
    },
    {
      "cell_type": "markdown",
      "id": "0cc4f327",
      "metadata": {
        "id": "0cc4f327"
      },
      "source": [
        "### Q11. What is the difference between a Z-test and a T-test\n",
        "\n",
        "**Answer:**\n",
        "Z-test is used when σ is known; T-test is used when σ is unknown and estimated from sample data."
      ]
    },
    {
      "cell_type": "markdown",
      "id": "172740ab",
      "metadata": {
        "id": "172740ab"
      },
      "source": [
        "### Q12. What is the T-test, and how is it used in hypothesis testing\n",
        "\n",
        "**Answer:**\n",
        "T-test evaluates whether the means of two groups are statistically different from each other."
      ]
    },
    {
      "cell_type": "markdown",
      "id": "886816d4",
      "metadata": {
        "id": "886816d4"
      },
      "source": [
        "### Q13. What is the relationship between Z-test and T-test in hypothesis testing\n",
        "\n",
        "**Answer:**\n",
        "Both are used for comparing means, but T-test handles more uncertainty due to small sample sizes."
      ]
    },
    {
      "cell_type": "markdown",
      "id": "6103390e",
      "metadata": {
        "id": "6103390e"
      },
      "source": [
        "### Q14. What is a confidence interval, and how is it used to interpret statistical results\n",
        "\n",
        "**Answer:**\n",
        "A confidence interval gives a range of values within which the population parameter is expected to lie with a certain confidence level."
      ]
    },
    {
      "cell_type": "markdown",
      "id": "753f0654",
      "metadata": {
        "id": "753f0654"
      },
      "source": [
        "### Q15. What is the margin of error, and how does it affect the confidence interval\n",
        "\n",
        "**Answer:**\n",
        "Margin of error defines the range above and below the point estimate in a confidence interval."
      ]
    },
    {
      "cell_type": "markdown",
      "id": "8a871006",
      "metadata": {
        "id": "8a871006"
      },
      "source": [
        "### Q16. How is Bayes' Theorem used in statistics, and what is its significance\n",
        "\n",
        "**Answer:**\n",
        "Bayes’ Theorem calculates the probability of a hypothesis based on prior knowledge and new evidence."
      ]
    },
    {
      "cell_type": "markdown",
      "id": "e8f7d5a1",
      "metadata": {
        "id": "e8f7d5a1"
      },
      "source": [
        "### Q17. What is the Chi-square distribution, and when is it used\n",
        "\n",
        "**Answer:**\n",
        "Chi-square distribution is used in categorical data analysis, such as goodness-of-fit and independence tests."
      ]
    },
    {
      "cell_type": "markdown",
      "id": "42b7514b",
      "metadata": {
        "id": "42b7514b"
      },
      "source": [
        "### Q18. What is the Chi-square goodness of fit test, and how is it applied\n",
        "\n",
        "**Answer:**\n",
        "It checks whether observed frequencies match expected frequencies under a certain distribution."
      ]
    },
    {
      "cell_type": "markdown",
      "id": "045b8cac",
      "metadata": {
        "id": "045b8cac"
      },
      "source": [
        "### Q19. What is the F-distribution, and when is it used in hypothesis testing\n",
        "\n",
        "**Answer:**\n",
        "F-distribution is used in ANOVA and regression to compare two variances or model fits."
      ]
    },
    {
      "cell_type": "markdown",
      "id": "34b0e44f",
      "metadata": {
        "id": "34b0e44f"
      },
      "source": [
        "### Q20. What is an ANOVA test, and what are its assumptions\n",
        "\n",
        "**Answer:**\n",
        "ANOVA tests for differences in means across multiple groups; assumes normality, independence, and equal variances."
      ]
    },
    {
      "cell_type": "markdown",
      "id": "9778e5bb",
      "metadata": {
        "id": "9778e5bb"
      },
      "source": [
        "### Q21. What are the different types of ANOVA tests\n",
        "\n",
        "**Answer:**\n",
        "One-way ANOVA (one factor), Two-way ANOVA (two factors), Repeated measures ANOVA (same subjects multiple times)."
      ]
    },
    {
      "cell_type": "markdown",
      "id": "43e761ca",
      "metadata": {
        "id": "43e761ca"
      },
      "source": [
        "### Q22. What is the F-test, and how does it relate to hypothesis testing?\n",
        "\n",
        "**Answer:**\n",
        "F-test compares two variances or more generally, the ratio of explained to unexplained variance in a model."
      ]
    },
    {
      "cell_type": "markdown",
      "id": "c999f4fb",
      "metadata": {
        "id": "c999f4fb"
      },
      "source": [
        "## Practical Questions\n",
        "\n",
        "*Note: Due to the high number of practicals (30+), only the section header is added here. Let me know if you'd like all practical code cells to be included too, or specific ones of interest.*"
      ]
    },
    {
      "cell_type": "markdown",
      "id": "407bd7a0",
      "metadata": {
        "id": "407bd7a0"
      },
      "source": [
        "## Practical Questions"
      ]
    },
    {
      "cell_type": "markdown",
      "id": "a9233e0d",
      "metadata": {
        "id": "a9233e0d"
      },
      "source": [
        "### Practical Q1. Write a Python program to generate a random variable and display its value"
      ]
    },
    {
      "cell_type": "code",
      "execution_count": null,
      "id": "7f461d9f",
      "metadata": {
        "id": "7f461d9f"
      },
      "outputs": [],
      "source": [
        "import numpy as np\n",
        "print('Random Value:', np.random.rand())"
      ]
    },
    {
      "cell_type": "markdown",
      "id": "ad6d94aa",
      "metadata": {
        "id": "ad6d94aa"
      },
      "source": [
        "### Practical Q2. Generate a discrete uniform distribution using Python and plot the probability mass function (PMF)"
      ]
    },
    {
      "cell_type": "code",
      "execution_count": null,
      "id": "32f50275",
      "metadata": {
        "id": "32f50275"
      },
      "outputs": [],
      "source": [
        "import numpy as np, matplotlib.pyplot as plt\n",
        "values = np.arange(1, 7)\n",
        "probs = [1/6]*6\n",
        "plt.bar(values, probs)\n",
        "plt.title('Discrete Uniform PMF')\n",
        "plt.show()"
      ]
    },
    {
      "cell_type": "markdown",
      "id": "597beb8c",
      "metadata": {
        "id": "597beb8c"
      },
      "source": [
        "### Practical Q3. Write a Python function to calculate the probability distribution function (PDF) of a Bernoulli distribution"
      ]
    },
    {
      "cell_type": "code",
      "execution_count": null,
      "id": "81a3b50d",
      "metadata": {
        "id": "81a3b50d"
      },
      "outputs": [],
      "source": [
        "def bernoulli_pdf(p, x):\n",
        "    return p if x == 1 else 1 - p\n",
        "print(bernoulli_pdf(0.5, 1))"
      ]
    },
    {
      "cell_type": "markdown",
      "id": "fb0a0091",
      "metadata": {
        "id": "fb0a0091"
      },
      "source": [
        "### Practical Q4. Write a Python script to simulate a binomial distribution with n=10 and p=0.5, then plot its histogram"
      ]
    },
    {
      "cell_type": "code",
      "execution_count": null,
      "id": "7baf3f30",
      "metadata": {
        "id": "7baf3f30"
      },
      "outputs": [],
      "source": [
        "import numpy as np, matplotlib.pyplot as plt\n",
        "samples = np.random.binomial(10, 0.5, 1000)\n",
        "plt.hist(samples, bins=10)\n",
        "plt.title('Binomial Distribution')\n",
        "plt.show()"
      ]
    },
    {
      "cell_type": "markdown",
      "id": "73d28324",
      "metadata": {
        "id": "73d28324"
      },
      "source": [
        "### Practical Q5. Create a Poisson distribution and visualize it using Python"
      ]
    },
    {
      "cell_type": "code",
      "execution_count": null,
      "id": "16850c3f",
      "metadata": {
        "id": "16850c3f"
      },
      "outputs": [],
      "source": [
        "import numpy as np, matplotlib.pyplot as plt\n",
        "s = np.random.poisson(5, 1000)\n",
        "plt.hist(s, bins=15)\n",
        "plt.title('Poisson Distribution')\n",
        "plt.show()"
      ]
    },
    {
      "cell_type": "markdown",
      "id": "39f32485",
      "metadata": {
        "id": "39f32485"
      },
      "source": [
        "### Practical Q6. Write a Python program to calculate and plot the cumulative distribution function (CDF) of a discrete uniform distribution"
      ]
    },
    {
      "cell_type": "code",
      "execution_count": null,
      "id": "812dad3d",
      "metadata": {
        "id": "812dad3d"
      },
      "outputs": [],
      "source": [
        "import numpy as np, matplotlib.pyplot as plt\n",
        "x = np.arange(1, 7)\n",
        "cdf = np.cumsum([1/6]*6)\n",
        "plt.step(x, cdf)\n",
        "plt.title('CDF of Discrete Uniform')\n",
        "plt.show()"
      ]
    },
    {
      "cell_type": "markdown",
      "id": "5e6c84a2",
      "metadata": {
        "id": "5e6c84a2"
      },
      "source": [
        "### Practical Q7. Generate a continuous uniform distribution using NumPy and visualize it"
      ]
    },
    {
      "cell_type": "code",
      "execution_count": null,
      "id": "a177d394",
      "metadata": {
        "id": "a177d394"
      },
      "outputs": [],
      "source": [
        "import numpy as np, matplotlib.pyplot as plt\n",
        "samples = np.random.uniform(0, 1, 1000)\n",
        "plt.hist(samples, bins=30)\n",
        "plt.title('Continuous Uniform')\n",
        "plt.show()"
      ]
    },
    {
      "cell_type": "markdown",
      "id": "b6bf5abc",
      "metadata": {
        "id": "b6bf5abc"
      },
      "source": [
        "### Practical Q8. Simulate data from a normal distribution and plot its histogram"
      ]
    },
    {
      "cell_type": "code",
      "execution_count": null,
      "id": "573f32bd",
      "metadata": {
        "id": "573f32bd"
      },
      "outputs": [],
      "source": [
        "import numpy as np, matplotlib.pyplot as plt\n",
        "samples = np.random.normal(0, 1, 1000)\n",
        "plt.hist(samples, bins=30)\n",
        "plt.title('Normal Distribution')\n",
        "plt.show()"
      ]
    },
    {
      "cell_type": "markdown",
      "id": "812175f2",
      "metadata": {
        "id": "812175f2"
      },
      "source": [
        "### Practical Q9. Write a Python function to calculate Z-scores from a dataset and plot them"
      ]
    },
    {
      "cell_type": "code",
      "execution_count": null,
      "id": "476fddf1",
      "metadata": {
        "id": "476fddf1"
      },
      "outputs": [],
      "source": [
        "import numpy as np, scipy.stats as stats, matplotlib.pyplot as plt\n",
        "data = np.random.normal(size=100)\n",
        "z = stats.zscore(data)\n",
        "plt.hist(z)\n",
        "plt.title('Z-scores')\n",
        "plt.show()"
      ]
    },
    {
      "cell_type": "markdown",
      "id": "bf0b7af6",
      "metadata": {
        "id": "bf0b7af6"
      },
      "source": [
        "### Practical Q10. Implement the Central Limit Theorem (CLT) using Python for a non-normal distribution"
      ]
    },
    {
      "cell_type": "code",
      "execution_count": null,
      "id": "5913aa55",
      "metadata": {
        "id": "5913aa55"
      },
      "outputs": [],
      "source": [
        "import numpy as np, matplotlib.pyplot as plt\n",
        "samples = [np.mean(np.random.exponential(size=30)) for _ in range(1000)]\n",
        "plt.hist(samples, bins=30)\n",
        "plt.title('CLT with Exponential')\n",
        "plt.show()"
      ]
    },
    {
      "cell_type": "markdown",
      "id": "9550a169",
      "metadata": {
        "id": "9550a169"
      },
      "source": [
        "### Practical Q11. Simulate multiple samples from a normal distribution and verify the Central Limit Theorem"
      ]
    },
    {
      "cell_type": "code",
      "execution_count": null,
      "id": "b3c41e79",
      "metadata": {
        "id": "b3c41e79"
      },
      "outputs": [],
      "source": [
        "Same as Q10 but from normal distribution instead of exponential"
      ]
    },
    {
      "cell_type": "markdown",
      "id": "05fb61a6",
      "metadata": {
        "id": "05fb61a6"
      },
      "source": [
        "### Practical Q12. Write a Python function to calculate and plot the standard normal distribution (mean = 0, std = 1)"
      ]
    },
    {
      "cell_type": "code",
      "execution_count": null,
      "id": "ec172b13",
      "metadata": {
        "id": "ec172b13"
      },
      "outputs": [],
      "source": [
        "import numpy as np, matplotlib.pyplot as plt\n",
        "x = np.linspace(-4, 4, 100)\n",
        "y = 1/np.sqrt(2*np.pi)*np.exp(-x**2/2)\n",
        "plt.plot(x, y)\n",
        "plt.title('Standard Normal Distribution')\n",
        "plt.show()"
      ]
    },
    {
      "cell_type": "markdown",
      "id": "54c8fa9e",
      "metadata": {
        "id": "54c8fa9e"
      },
      "source": [
        "### Practical Q13. Generate random variables and calculate their corresponding probabilities using the binomial distribution"
      ]
    },
    {
      "cell_type": "code",
      "execution_count": null,
      "id": "a14d07a9",
      "metadata": {
        "id": "a14d07a9"
      },
      "outputs": [],
      "source": [
        "import numpy as np\n",
        "n, p = 10, 0.5\n",
        "x = np.arange(0, n+1)\n",
        "prob = stats.binom.pmf(x, n, p)\n",
        "print(prob)"
      ]
    },
    {
      "cell_type": "markdown",
      "id": "189f7e53",
      "metadata": {
        "id": "189f7e53"
      },
      "source": [
        "### Practical Q14. Write a Python program to calculate the Z-score for a given data point and compare it to a standard normal distribution"
      ]
    },
    {
      "cell_type": "code",
      "execution_count": null,
      "id": "745a63cb",
      "metadata": {
        "id": "745a63cb"
      },
      "outputs": [],
      "source": [
        "from scipy.stats import norm\n",
        "z = (72 - 70) / 5\n",
        "print('Z-score:', z, 'P-value:', norm.sf(z))"
      ]
    },
    {
      "cell_type": "markdown",
      "id": "6afaa6fa",
      "metadata": {
        "id": "6afaa6fa"
      },
      "source": [
        "### Practical Q15. Implement hypothesis testing using Z-statistics for a sample dataset"
      ]
    },
    {
      "cell_type": "code",
      "execution_count": null,
      "id": "2406c5e7",
      "metadata": {
        "id": "2406c5e7"
      },
      "outputs": [],
      "source": [
        "Perform z-test using sample data, calculate z and compare to critical value"
      ]
    },
    {
      "cell_type": "markdown",
      "id": "3ed498a7",
      "metadata": {
        "id": "3ed498a7"
      },
      "source": [
        "### Practical Q16. Create a confidence interval for a dataset using Python and interpret the result"
      ]
    },
    {
      "cell_type": "code",
      "execution_count": null,
      "id": "9f983bcb",
      "metadata": {
        "id": "9f983bcb"
      },
      "outputs": [],
      "source": [
        "from scipy import stats\n",
        "sample = np.random.normal(50, 10, 30)\n",
        "ci = stats.norm.interval(0.95, loc=np.mean(sample), scale=stats.sem(sample))\n",
        "print('Confidence Interval:', ci)"
      ]
    },
    {
      "cell_type": "markdown",
      "id": "afbcecc9",
      "metadata": {
        "id": "afbcecc9"
      },
      "source": [
        "### Practical Q17. Generate data from a normal distribution, then calculate and interpret the confidence interval for its mean"
      ]
    },
    {
      "cell_type": "code",
      "execution_count": null,
      "id": "11e6c9ec",
      "metadata": {
        "id": "11e6c9ec"
      },
      "outputs": [],
      "source": [
        "Same as Q16 but visualize with matplotlib"
      ]
    },
    {
      "cell_type": "markdown",
      "id": "98a4230c",
      "metadata": {
        "id": "98a4230c"
      },
      "source": [
        "### Practical Q18. Write a Python script to calculate and visualize the probability density function (PDF) of a normal distribution"
      ]
    },
    {
      "cell_type": "code",
      "execution_count": null,
      "id": "3844f57a",
      "metadata": {
        "id": "3844f57a"
      },
      "outputs": [],
      "source": [
        "import numpy as np, matplotlib.pyplot as plt\n",
        "x = np.linspace(-4, 4, 1000)\n",
        "y = stats.norm.pdf(x)\n",
        "plt.plot(x, y)\n",
        "plt.title('PDF')\n",
        "plt.show()"
      ]
    },
    {
      "cell_type": "markdown",
      "id": "16f0936d",
      "metadata": {
        "id": "16f0936d"
      },
      "source": [
        "### Practical Q19. Use Python to calculate and interpret the cumulative distribution function (CDF) of a Poisson distribution"
      ]
    },
    {
      "cell_type": "code",
      "execution_count": null,
      "id": "44c78136",
      "metadata": {
        "id": "44c78136"
      },
      "outputs": [],
      "source": [
        "from scipy.stats import poisson\n",
        "x = np.arange(0, 15)\n",
        "cdf = poisson.cdf(x, mu=5)\n",
        "print('CDF:', cdf)"
      ]
    },
    {
      "cell_type": "markdown",
      "id": "c65b09f0",
      "metadata": {
        "id": "c65b09f0"
      },
      "source": [
        "### Practical Q20. Simulate a random variable using a continuous uniform distribution and calculate its expected value"
      ]
    },
    {
      "cell_type": "code",
      "execution_count": null,
      "id": "9bc48c84",
      "metadata": {
        "id": "9bc48c84"
      },
      "outputs": [],
      "source": [
        "samples = np.random.uniform(10, 20, 1000)\n",
        "expected_value = np.mean(samples)\n",
        "print('Expected:', expected_value)"
      ]
    },
    {
      "cell_type": "markdown",
      "id": "8925e41e",
      "metadata": {
        "id": "8925e41e"
      },
      "source": [
        "### Practical Q21. Write a Python program to compare the standard deviations of two datasets and visualize the difference"
      ]
    },
    {
      "cell_type": "code",
      "execution_count": null,
      "id": "3fa14929",
      "metadata": {
        "id": "3fa14929"
      },
      "outputs": [],
      "source": [
        "Compare std dev with np.std() and visualize using bar plot"
      ]
    },
    {
      "cell_type": "markdown",
      "id": "75d0fbbd",
      "metadata": {
        "id": "75d0fbbd"
      },
      "source": [
        "### Practical Q22. Calculate the range and interquartile range (IQR) of a dataset generated from a normal distribution"
      ]
    },
    {
      "cell_type": "code",
      "execution_count": null,
      "id": "b5292810",
      "metadata": {
        "id": "b5292810"
      },
      "outputs": [],
      "source": [
        "Generate normal data and use np.percentile() for IQR and range"
      ]
    },
    {
      "cell_type": "markdown",
      "id": "3af618fa",
      "metadata": {
        "id": "3af618fa"
      },
      "source": [
        "### Practical Q23. Implement Z-score normalization on a dataset and visualize its transformation"
      ]
    },
    {
      "cell_type": "code",
      "execution_count": null,
      "id": "6f81adfd",
      "metadata": {
        "id": "6f81adfd"
      },
      "outputs": [],
      "source": [
        "Use stats.zscore and plot transformed vs original data"
      ]
    },
    {
      "cell_type": "markdown",
      "id": "e0b71651",
      "metadata": {
        "id": "e0b71651"
      },
      "source": [
        "### Practical Q24. Write a Python function to calculate the skewness and kurtosis of a dataset generated from a normal distribution"
      ]
    },
    {
      "cell_type": "code",
      "execution_count": null,
      "id": "eea1d5a2",
      "metadata": {
        "id": "eea1d5a2"
      },
      "outputs": [],
      "source": [
        "from scipy.stats import skew, kurtosis\n",
        "samples = np.random.normal(size=1000)\n",
        "print('Skew:', skew(samples), 'Kurtosis:', kurtosis(samples))"
      ]
    },
    {
      "cell_type": "markdown",
      "id": "40162220",
      "metadata": {
        "id": "40162220"
      },
      "source": [
        "### Practical Q25. Write a Python program to perform a Z-test for comparing a sample mean to a known population mean and interpret the results"
      ]
    },
    {
      "cell_type": "code",
      "execution_count": null,
      "id": "733c68ec",
      "metadata": {
        "id": "733c68ec"
      },
      "outputs": [],
      "source": [
        "Use stats.ztest (if available) or manual z computation and interpret result"
      ]
    },
    {
      "cell_type": "markdown",
      "id": "32a909f7",
      "metadata": {
        "id": "32a909f7"
      },
      "source": [
        "### Practical Q26. Simulate random data to perform hypothesis testing and calculate the corresponding P-value using Python"
      ]
    },
    {
      "cell_type": "code",
      "execution_count": null,
      "id": "c6a25c63",
      "metadata": {
        "id": "c6a25c63"
      },
      "outputs": [],
      "source": [
        "Simulate hypothesis test and use stats.ttest or ztest with sample and null mean"
      ]
    },
    {
      "cell_type": "markdown",
      "id": "3dfaec02",
      "metadata": {
        "id": "3dfaec02"
      },
      "source": [
        "### Practical Q27. Implement a one-sample Z-test using Python to compare the sample mean with the population mean"
      ]
    },
    {
      "cell_type": "code",
      "execution_count": null,
      "id": "060bd298",
      "metadata": {
        "id": "060bd298"
      },
      "outputs": [],
      "source": [
        "Use stats.ttest_1samp for one-sample t-test"
      ]
    },
    {
      "cell_type": "markdown",
      "id": "bd522e68",
      "metadata": {
        "id": "bd522e68"
      },
      "source": [
        "### Practical Q28. Perform a two-tailed Z-test using Python and visualize the decision region on a plot"
      ]
    },
    {
      "cell_type": "code",
      "execution_count": null,
      "id": "26646f1f",
      "metadata": {
        "id": "26646f1f"
      },
      "outputs": [],
      "source": [
        "Plot critical regions using matplotlib with z-distribution"
      ]
    },
    {
      "cell_type": "markdown",
      "id": "08d4f487",
      "metadata": {
        "id": "08d4f487"
      },
      "source": [
        "### Practical Q29. Create a Python function that calculates and visualizes Type 1 and Type 2 errors during hypothesis testing"
      ]
    },
    {
      "cell_type": "code",
      "execution_count": null,
      "id": "0f3565f0",
      "metadata": {
        "id": "0f3565f0"
      },
      "outputs": [],
      "source": [
        "Simulate two overlapping normal distributions and highlight Type I and II error areas"
      ]
    },
    {
      "cell_type": "markdown",
      "id": "25912ad9",
      "metadata": {
        "id": "25912ad9"
      },
      "source": [
        "### Practical Q30. Write a Python program to perform an independent T-test and interpret the results"
      ]
    },
    {
      "cell_type": "code",
      "execution_count": null,
      "id": "7cebf02b",
      "metadata": {
        "id": "7cebf02b"
      },
      "outputs": [],
      "source": [
        "Use scipy.stats.ttest_ind with two samples"
      ]
    },
    {
      "cell_type": "markdown",
      "id": "451b2fd7",
      "metadata": {
        "id": "451b2fd7"
      },
      "source": [
        "### Practical Q31. Perform a paired sample T-test using Python and visualize the comparison results"
      ]
    },
    {
      "cell_type": "code",
      "execution_count": null,
      "id": "d9ceb352",
      "metadata": {
        "id": "d9ceb352"
      },
      "outputs": [],
      "source": [
        "Use scipy.stats.ttest_rel with two paired samples"
      ]
    },
    {
      "cell_type": "markdown",
      "id": "934fb109",
      "metadata": {
        "id": "934fb109"
      },
      "source": [
        "### Practical Q32. Simulate data and perform both Z-test and T-test, then compare the results using Python"
      ]
    },
    {
      "cell_type": "code",
      "execution_count": null,
      "id": "628d7118",
      "metadata": {
        "id": "628d7118"
      },
      "outputs": [],
      "source": [
        "Run both t-test and z-test on same data, compare results"
      ]
    },
    {
      "cell_type": "markdown",
      "id": "0c69aca3",
      "metadata": {
        "id": "0c69aca3"
      },
      "source": [
        "### Practical Q33. Write a Python function to calculate the confidence interval for a sample mean and explain its significance"
      ]
    },
    {
      "cell_type": "code",
      "execution_count": null,
      "id": "2e133c1d",
      "metadata": {
        "id": "2e133c1d"
      },
      "outputs": [],
      "source": [
        "Define function to compute confidence interval from mean, std, and sample size"
      ]
    },
    {
      "cell_type": "markdown",
      "id": "a6eb62ea",
      "metadata": {
        "id": "a6eb62ea"
      },
      "source": [
        "### Practical Q34. Write a Python program to calculate the margin of error for a given confidence level using sample data"
      ]
    },
    {
      "cell_type": "code",
      "execution_count": null,
      "id": "8e851e43",
      "metadata": {
        "id": "8e851e43"
      },
      "outputs": [],
      "source": [
        "MOE = Z * (std / sqrt(n)) — implement in function"
      ]
    },
    {
      "cell_type": "markdown",
      "id": "2f3d5fd9",
      "metadata": {
        "id": "2f3d5fd9"
      },
      "source": [
        "### Practical Q35. Implement a Bayesian inference method using Bayes' Theorem in Python and explain the process"
      ]
    },
    {
      "cell_type": "code",
      "execution_count": null,
      "id": "0cea4219",
      "metadata": {
        "id": "0cea4219"
      },
      "outputs": [],
      "source": [
        "Apply Bayes’ Theorem using conditional probabilities from simulated counts"
      ]
    },
    {
      "cell_type": "markdown",
      "id": "3487f1f4",
      "metadata": {
        "id": "3487f1f4"
      },
      "source": [
        "### Practical Q36. Perform a Chi-square test for independence between two categorical variables in Python"
      ]
    },
    {
      "cell_type": "code",
      "execution_count": null,
      "id": "54f98e7e",
      "metadata": {
        "id": "54f98e7e"
      },
      "outputs": [],
      "source": [
        "Use pandas crosstab and stats.chi2_contingency"
      ]
    },
    {
      "cell_type": "markdown",
      "id": "30443d3c",
      "metadata": {
        "id": "30443d3c"
      },
      "source": [
        "### Practical Q37. Write a Python program to calculate the expected frequencies for a Chi-square test based on observed data"
      ]
    },
    {
      "cell_type": "code",
      "execution_count": null,
      "id": "90299fca",
      "metadata": {
        "id": "90299fca"
      },
      "outputs": [],
      "source": [
        "Calculate expected = row_totals * col_totals / grand_total"
      ]
    },
    {
      "cell_type": "markdown",
      "id": "e28ee953",
      "metadata": {
        "id": "e28ee953"
      },
      "source": [
        "### Practical Q38. Perform a goodness-of-fit test using Python to compare the observed data to an expected distribution."
      ]
    },
    {
      "cell_type": "code",
      "execution_count": null,
      "id": "4f625243",
      "metadata": {
        "id": "4f625243"
      },
      "outputs": [],
      "source": [
        "Compare observed vs expected with chi-square goodness-of-fit"
      ]
    }
  ],
  "metadata": {
    "colab": {
      "provenance": []
    }
  },
  "nbformat": 4,
  "nbformat_minor": 5
}